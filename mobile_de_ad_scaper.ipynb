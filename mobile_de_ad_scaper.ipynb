{
 "cells": [
  {
   "cell_type": "markdown",
   "id": "04442110",
   "metadata": {},
   "source": [
    "## In this notebook the main aim is end up with a dataframe containing all of the main information that we are concerned with regarding a specific make(s) and model(s) of a vehicle"
   ]
  },
  {
   "cell_type": "markdown",
   "id": "1c22fa0a",
   "metadata": {},
   "source": [
    "## In the next notebook, the taken information will be taken and analyzed, in order to create find the best deals and to be able to accuratly price a car based on its characteristics"
   ]
  },
  {
   "cell_type": "code",
   "execution_count": 2,
   "id": "78927b2a",
   "metadata": {},
   "outputs": [],
   "source": [
    "# Imports\n",
    "from selenium import webdriver\n",
    "from webdriver_manager.chrome import ChromeDriverManager\n",
    "from selenium.webdriver.chrome.options import Options\n",
    "from selenium.webdriver.chrome.service import Service\n",
    "from selenium.webdriver.support.ui import Select\n",
    "\n",
    "import random\n",
    "import time\n",
    "from datetime import datetime\n",
    "from bs4 import BeautifulSoup \n",
    "import pandas as pd\n",
    "import numpy as np\n",
    "import re\n",
    "from random import randrange\n",
    "from tqdm import tqdm\n",
    "import urllib.parse"
   ]
  },
  {
   "cell_type": "code",
   "execution_count": 3,
   "id": "ce8481f8",
   "metadata": {},
   "outputs": [],
   "source": [
    "def get_model_n_make_links():\n",
    "    chrome_options = webdriver.ChromeOptions()\n",
    "    prefs = {\"profile.managed_default_content_settings.images\": 2}\n",
    "    chrome_options.add_experimental_option(\"prefs\", prefs)\n",
    "\n",
    "    # Open Chrome in Incognito mode -> Otherwise mobile.de is likely to block you from accessing the website\n",
    "    chrome_options.add_argument('--incognito')\n",
    "\n",
    "    driver_path = ChromeDriverManager().install()\n",
    "    service = Service(driver_path)\n",
    "    driver = webdriver.Chrome(service=service, options=chrome_options)\n",
    "\n",
    "    starting_link_to_scrape = \"https://www.mobile.de/?lang=en\"\n",
    "    driver.get(starting_link_to_scrape)\n",
    "    time.sleep(1)\n",
    "    base_source = driver.page_source\n",
    "    base_soup = BeautifulSoup(base_source, 'html.parser')\n",
    "\n",
    "    make_list = base_soup.findAll('div', {'class': 'jtVMt'})[0]\n",
    "    make_list.findAll(\"option\")\n",
    "\n",
    "    ids = []\n",
    "    makes = []\n",
    "\n",
    "    for option in make_list.findAll(\"option\"):\n",
    "        value = option.get('value') # get value of xml\n",
    "        text = option.text # get text of xml\n",
    "\n",
    "        if text != \"Any\":\n",
    "            ids.append(value)\n",
    "            makes.append(text)\n",
    "\n",
    "    base_df = pd.DataFrame({\n",
    "        'id1': ids,\n",
    "        'car_make': makes\n",
    "    })\n",
    "    base_df = base_df.drop_duplicates()\n",
    "    base_df = base_df[~base_df['car_make'].isin(['Any', 'Other', ''])]\n",
    "\n",
    "    car_base_model_data = pd.DataFrame()\n",
    "\n",
    "    for car_make_id in tqdm(base_df[\"id1\"], \"Progress: \"):\n",
    "        # Locate the dropdown element\n",
    "        dropdown_element = driver.find_element(\"xpath\", \"//select[@data-testid='qs-select-make']\")\n",
    "\n",
    "        # Create a Select object for the dropdown\n",
    "        select_dropdown = Select(dropdown_element)\n",
    "\n",
    "        select_dropdown.select_by_value(str(car_make_id)) \n",
    "\n",
    "        time.sleep(3) # wait for the page to load\n",
    "        \n",
    "        base_source = driver.page_source\n",
    "        base_soup = BeautifulSoup(base_source, 'html.parser')\n",
    "        \n",
    "        model_list = base_soup.findAll('div', {'class': 'jtVMt'})[1]\n",
    "        \n",
    "        ids_model = []\n",
    "        model = []\n",
    "\n",
    "        for option in model_list.findAll(\"option\"):\n",
    "            value = option.get('value') # get value of xml\n",
    "            text = option.text # get text of xml\n",
    "\n",
    "            if text != \"Any\":\n",
    "                ids_model.append(value)\n",
    "                model.append(text)\n",
    "                \n",
    "        df_model = pd.DataFrame({\n",
    "        'id2': ids_model,\n",
    "        'car_model': model,\n",
    "        'car_make': car_make_id \n",
    "        }) \n",
    "        \n",
    "        car_base_model_data = pd.concat([car_base_model_data, df_model], ignore_index=True)\n",
    "        \n",
    "    driver.close()\n",
    "\n",
    "    merged_df = car_base_model_data.merge(base_df, left_on='car_make', right_on='id1')\n",
    "    merged_df = merged_df.drop([\"car_make_x\"], axis = 1)\n",
    "    merged_df.rename(columns = {'id2':'model_id', 'id1':'make_id', 'car_make_y':'car_make'}, inplace = True)\n",
    "    # Create the link responsible for opening the landing page for a specific make and model \n",
    "    merged_df[\"link\"] = (\"https://suchen.mobile.de/fahrzeuge/search.html?dam=0&isSearchRequest=true&ms=\" + merged_df[\"make_id\"] + \"%3B\" + merged_df[\"model_id\"] + \"%3B%3B&ref=quickSearch&sb=rel&vc=Car\")\n",
    "\n",
    "    return merged_df"
   ]
  },
  {
   "cell_type": "code",
   "execution_count": 4,
   "id": "be651878",
   "metadata": {},
   "outputs": [
    {
     "name": "stderr",
     "output_type": "stream",
     "text": [
      "Progress: 100%|███████████████████████████████| 131/131 [06:45<00:00,  3.10s/it]\n"
     ]
    },
    {
     "data": {
      "text/html": [
       "<div>\n",
       "<style scoped>\n",
       "    .dataframe tbody tr th:only-of-type {\n",
       "        vertical-align: middle;\n",
       "    }\n",
       "\n",
       "    .dataframe tbody tr th {\n",
       "        vertical-align: top;\n",
       "    }\n",
       "\n",
       "    .dataframe thead th {\n",
       "        text-align: right;\n",
       "    }\n",
       "</style>\n",
       "<table border=\"1\" class=\"dataframe\">\n",
       "  <thead>\n",
       "    <tr style=\"text-align: right;\">\n",
       "      <th></th>\n",
       "      <th>model_id</th>\n",
       "      <th>car_model</th>\n",
       "      <th>make_id</th>\n",
       "      <th>car_make</th>\n",
       "      <th>link</th>\n",
       "    </tr>\n",
       "  </thead>\n",
       "  <tbody>\n",
       "    <tr>\n",
       "      <th>0</th>\n",
       "      <td>2</td>\n",
       "      <td>100</td>\n",
       "      <td>1900</td>\n",
       "      <td>Audi</td>\n",
       "      <td>https://suchen.mobile.de/fahrzeuge/search.html...</td>\n",
       "    </tr>\n",
       "    <tr>\n",
       "      <th>1</th>\n",
       "      <td>3</td>\n",
       "      <td>200</td>\n",
       "      <td>1900</td>\n",
       "      <td>Audi</td>\n",
       "      <td>https://suchen.mobile.de/fahrzeuge/search.html...</td>\n",
       "    </tr>\n",
       "    <tr>\n",
       "      <th>2</th>\n",
       "      <td>5</td>\n",
       "      <td>80</td>\n",
       "      <td>1900</td>\n",
       "      <td>Audi</td>\n",
       "      <td>https://suchen.mobile.de/fahrzeuge/search.html...</td>\n",
       "    </tr>\n",
       "    <tr>\n",
       "      <th>3</th>\n",
       "      <td>6</td>\n",
       "      <td>90</td>\n",
       "      <td>1900</td>\n",
       "      <td>Audi</td>\n",
       "      <td>https://suchen.mobile.de/fahrzeuge/search.html...</td>\n",
       "    </tr>\n",
       "    <tr>\n",
       "      <th>4</th>\n",
       "      <td>25</td>\n",
       "      <td>A1</td>\n",
       "      <td>1900</td>\n",
       "      <td>Audi</td>\n",
       "      <td>https://suchen.mobile.de/fahrzeuge/search.html...</td>\n",
       "    </tr>\n",
       "    <tr>\n",
       "      <th>...</th>\n",
       "      <td>...</td>\n",
       "      <td>...</td>\n",
       "      <td>...</td>\n",
       "      <td>...</td>\n",
       "      <td>...</td>\n",
       "    </tr>\n",
       "    <tr>\n",
       "      <th>2380</th>\n",
       "      <td>4</td>\n",
       "      <td>MF 30</td>\n",
       "      <td>25650</td>\n",
       "      <td>Wiesmann</td>\n",
       "      <td>https://suchen.mobile.de/fahrzeuge/search.html...</td>\n",
       "    </tr>\n",
       "    <tr>\n",
       "      <th>2381</th>\n",
       "      <td>6</td>\n",
       "      <td>MF 35</td>\n",
       "      <td>25650</td>\n",
       "      <td>Wiesmann</td>\n",
       "      <td>https://suchen.mobile.de/fahrzeuge/search.html...</td>\n",
       "    </tr>\n",
       "    <tr>\n",
       "      <th>2382</th>\n",
       "      <td>7</td>\n",
       "      <td>MF 4</td>\n",
       "      <td>25650</td>\n",
       "      <td>Wiesmann</td>\n",
       "      <td>https://suchen.mobile.de/fahrzeuge/search.html...</td>\n",
       "    </tr>\n",
       "    <tr>\n",
       "      <th>2383</th>\n",
       "      <td>8</td>\n",
       "      <td>MF 5</td>\n",
       "      <td>25650</td>\n",
       "      <td>Wiesmann</td>\n",
       "      <td>https://suchen.mobile.de/fahrzeuge/search.html...</td>\n",
       "    </tr>\n",
       "    <tr>\n",
       "      <th>2384</th>\n",
       "      <td>1</td>\n",
       "      <td>Other</td>\n",
       "      <td>25650</td>\n",
       "      <td>Wiesmann</td>\n",
       "      <td>https://suchen.mobile.de/fahrzeuge/search.html...</td>\n",
       "    </tr>\n",
       "  </tbody>\n",
       "</table>\n",
       "<p>2385 rows × 5 columns</p>\n",
       "</div>"
      ],
      "text/plain": [
       "     model_id car_model make_id  car_make  \\\n",
       "0           2       100    1900      Audi   \n",
       "1           3       200    1900      Audi   \n",
       "2           5        80    1900      Audi   \n",
       "3           6        90    1900      Audi   \n",
       "4          25        A1    1900      Audi   \n",
       "...       ...       ...     ...       ...   \n",
       "2380        4     MF 30   25650  Wiesmann   \n",
       "2381        6     MF 35   25650  Wiesmann   \n",
       "2382        7      MF 4   25650  Wiesmann   \n",
       "2383        8      MF 5   25650  Wiesmann   \n",
       "2384        1     Other   25650  Wiesmann   \n",
       "\n",
       "                                                   link  \n",
       "0     https://suchen.mobile.de/fahrzeuge/search.html...  \n",
       "1     https://suchen.mobile.de/fahrzeuge/search.html...  \n",
       "2     https://suchen.mobile.de/fahrzeuge/search.html...  \n",
       "3     https://suchen.mobile.de/fahrzeuge/search.html...  \n",
       "4     https://suchen.mobile.de/fahrzeuge/search.html...  \n",
       "...                                                 ...  \n",
       "2380  https://suchen.mobile.de/fahrzeuge/search.html...  \n",
       "2381  https://suchen.mobile.de/fahrzeuge/search.html...  \n",
       "2382  https://suchen.mobile.de/fahrzeuge/search.html...  \n",
       "2383  https://suchen.mobile.de/fahrzeuge/search.html...  \n",
       "2384  https://suchen.mobile.de/fahrzeuge/search.html...  \n",
       "\n",
       "[2385 rows x 5 columns]"
      ]
     },
     "metadata": {},
     "output_type": "display_data"
    }
   ],
   "source": [
    "df_make_model_links = get_model_n_make_links()\n",
    "display(df_make_model_links)"
   ]
  },
  {
   "cell_type": "markdown",
   "id": "d35c2db3",
   "metadata": {},
   "source": [
    "### Let's build this particular scraper with Porche 911 in mind, more specifically the 997 generation "
   ]
  },
  {
   "cell_type": "code",
   "execution_count": 7,
   "id": "692af03e",
   "metadata": {},
   "outputs": [
    {
     "name": "stdout",
     "output_type": "stream",
     "text": [
      "https://suchen.mobile.de/fahrzeuge/search.html?dam=0&isSearchRequest=true&ms=20100%3B17%3B%3B&ref=quickSearch&sb=rel&vc=Car\n"
     ]
    }
   ],
   "source": [
    "porsche_997_link = df_make_model_links[\"link\"].iloc[2012]\n",
    "# this link should be taking us directly to the porsche 997 first page of ads\n",
    "print(porsche_997_link)"
   ]
  },
  {
   "cell_type": "markdown",
   "id": "645a80e9",
   "metadata": {},
   "source": [
    "### However, let's make further narrow down the model version, which ads we will scrape later on"
   ]
  },
  {
   "cell_type": "code",
   "execution_count": 8,
   "id": "94a60c9a",
   "metadata": {},
   "outputs": [],
   "source": [
    "def generate_url(base_url=\"\", \n",
    "                 start_year=None, end_year=None, \n",
    "                 max_mileage=None, \n",
    "                 min_power=None, max_power=None, \n",
    "                 fuel_types=None):\n",
    "    \n",
    "    params = []\n",
    "\n",
    "    # For year range\n",
    "    if start_year or end_year:\n",
    "        year_range = f\"{start_year if start_year else ''}%3A{end_year if end_year else ''}\"\n",
    "        params.append(f\"fr={year_range}\")\n",
    "\n",
    "    # For max mileage\n",
    "    if max_mileage:\n",
    "        params.append(f\"ml=%3A{max_mileage}\")\n",
    "\n",
    "    # For power range\n",
    "    power_range = []\n",
    "    if min_power:\n",
    "        power_range.append(str(min_power))\n",
    "    power_range.append('%3A')\n",
    "    if max_power:\n",
    "        power_range.append(str(max_power))\n",
    "    if power_range:\n",
    "        params.append(f\"pw={''.join(power_range)}\")\n",
    "\n",
    "    # For fuel types\n",
    "    if fuel_types:\n",
    "        for fuel_type in fuel_types:\n",
    "            params.append(f\"ft={fuel_type}\")\n",
    "\n",
    "    # The default parameters, ensuring they are not duplicated\n",
    "    default_params = [\"ref=quickSearch\", \"sb=rel\", \"vc=Car\"]\n",
    "    for param in default_params:\n",
    "        if param not in base_url:\n",
    "            params.append(param)\n",
    "    \n",
    "    url = base_url + \"&\" + \"&\".join(params)\n",
    "    return url"
   ]
  },
  {
   "cell_type": "markdown",
   "id": "0dacfc79",
   "metadata": {},
   "source": [
    "### Let's take all the ads for the S/4S (which had more than 295kW of power) models of the 997.2 generation, which took production between 2009 and 2011  "
   ]
  },
  {
   "cell_type": "code",
   "execution_count": 10,
   "id": "65fd1bfa",
   "metadata": {},
   "outputs": [
    {
     "name": "stdout",
     "output_type": "stream",
     "text": [
      "https://suchen.mobile.de/fahrzeuge/search.html?dam=0&isSearchRequest=true&ms=20100%3B17%3B%3B&ref=quickSearch&sb=rel&vc=Car&fr=2009%3A2011&pw=%3A295\n"
     ]
    }
   ],
   "source": [
    "p997_carreraS = generate_url(base_url= porsche_997_link, \n",
    "                 start_year=2009, end_year=2011, \n",
    "                 max_mileage=None, \n",
    "                 min_power=None, max_power=295, \n",
    "                 fuel_types=None)\n",
    "print(p997_carreraS)"
   ]
  },
  {
   "cell_type": "markdown",
   "id": "24efa6e4",
   "metadata": {},
   "source": [
    "### Given that we are in possession of the landing page for the specific model, lets collect all the links for the individual ads. so that we could access them later on and scrape the information from them"
   ]
  },
  {
   "cell_type": "markdown",
   "id": "5d1cfa0b",
   "metadata": {},
   "source": [
    "### For this we would need to create a loop, which goes over each individual page with ads for the make & model in mind and collect the relevant links"
   ]
  },
  {
   "cell_type": "code",
   "execution_count": 14,
   "id": "9cea4ea1",
   "metadata": {},
   "outputs": [],
   "source": [
    "def page_ad_scraper(pages_to_go_over, make_model_input_link=\"\", ad_links=[], id_ad_all=[]):\n",
    "    store_pages_error = []\n",
    "    for ad_page in tqdm(pages_to_go_over):\n",
    "        chrome_options = webdriver.ChromeOptions()\n",
    "        prefs = {\"profile.managed_default_content_settings.images\": 2}\n",
    "        chrome_options.add_experimental_option(\"prefs\", prefs)\n",
    "        # Open Chrome in incognito mode\n",
    "        chrome_options.add_argument('--incognito')\n",
    "\n",
    "        driver_path = ChromeDriverManager().install()\n",
    "        service = Service(driver_path)\n",
    "        driver = webdriver.Chrome(service=service, options=chrome_options)\n",
    "\n",
    "        single_page_link = make_model_input_link + \"&pageNumber=\" + str(ad_page)\n",
    "        driver.get(single_page_link)\n",
    "        time.sleep(5)\n",
    "        base_source = driver.page_source\n",
    "        single_page_soup = BeautifulSoup(base_source, 'html.parser')\n",
    "\n",
    "        x = len(ad_links) # before loop count\n",
    "        links = single_page_soup.find_all(lambda tag: tag.name == 'a' and tag.get('href', '').startswith('/fahrzeuge/details.html'))\n",
    "        for element in links:\n",
    "            ad_link = \"https://suchen.mobile.de\" + (element[\"href\"])\n",
    "            #print(ad_link)\n",
    "            ad_links.append(ad_link)\n",
    "\n",
    "        y = len(ad_links) # after loop count \n",
    "        print(\"page:\", ad_page, \"added ads\", y - x)\n",
    "\n",
    "    driver.close()\n",
    "\n",
    "    for link in ad_links:\n",
    "        match = re.search(r'id=(\\d+)', link)\n",
    "        if match:\n",
    "            id_ad_all.append(match.group(1))\n",
    "\n",
    "    return ad_links, id_ad_all, store_pages_error"
   ]
  },
  {
   "cell_type": "code",
   "execution_count": 15,
   "id": "a8c4e507",
   "metadata": {},
   "outputs": [],
   "source": [
    " def scrape_links_one_make_one_model(df, make_model_input_link = \"\", sleep = 2):\n",
    "    chrome_options = webdriver.ChromeOptions()\n",
    "    prefs = {\"profile.managed_default_content_settings.images\": 2}\n",
    "    chrome_options.add_experimental_option(\"prefs\", prefs)\n",
    "\n",
    "    # Open Chrome in incognito mode\n",
    "    chrome_options.add_argument('--incognito')\n",
    "\n",
    "    driver_path = ChromeDriverManager().install()\n",
    "    service = Service(driver_path)\n",
    "    driver = webdriver.Chrome(service=service, options=chrome_options)\n",
    "    \n",
    "    # open the landing page \n",
    "    driver.get(make_model_input_link)\n",
    "    time.sleep(sleep)\n",
    "    base_source = driver.page_source\n",
    "    base_soup = BeautifulSoup(base_source, 'html.parser')\n",
    "\n",
    "    # get the number of pages \n",
    "    elements = base_soup.find_all('span', {'class': 'eseJd'})\n",
    "    pages = []\n",
    "    \n",
    "    try:\n",
    "        for elem in elements:\n",
    "            elem = str(elem)\n",
    "            match = re.search(r'>(\\d+)<', elem)\n",
    "            if match:\n",
    "                extracted_number = match.group(1)\n",
    "            else:\n",
    "                extracted_number = None\n",
    "            \n",
    "            pages.append(extracted_number)\n",
    "        print(\"max_number_pages:\", pages[-2])\n",
    "        # get the pages number as an integer    \n",
    "    except:\n",
    "        pages = [1]\n",
    "        print(\"max_number_pages:\", 1)\n",
    "\n",
    "    driver.close()\n",
    "    pages_number = int(pages[-2])\n",
    "\n",
    "    ad_links = []\n",
    "    id_ad_all = []\n",
    "\n",
    "    pages_all = list(range(1, pages_number + 1))\n",
    "    random.shuffle(pages_all)\n",
    "\n",
    "    ad_links, id_ad_all, errors = page_ad_scraper(pages_all, make_model_input_link, ad_links, id_ad_all)\n",
    "    while len(errors) != 0:\n",
    "        ad_links, id_ad_all, errors = page_ad_scraper(errors, make_model_input_link, ad_links, id_ad_all)\n",
    "        \n",
    "\n",
    "    ad_dict = {\"links_ads\":ad_links,\n",
    "               \"id_ad\":id_ad_all}\n",
    "    \n",
    "    ads_df = pd.DataFrame(ad_dict)\n",
    "    ads_df = ads_df.drop_duplicates(subset='id_ad')\n",
    "    ads_df.reset_index(drop = True, inplace=True)\n",
    "    \n",
    "    # get a dislay of amount of ads \n",
    "    print(\"Saved ads:\", ads_df.shape[0])\n",
    "    \n",
    "    # get time date \n",
    "    now = datetime.now() \n",
    "    datetime_string = str(now.strftime(\"%d/%m/%Y %H:%M:%S\"))\n",
    "    \n",
    "    ads_df['download_date_time'] = datetime_string\n",
    "    \n",
    "    # get the model and make of the car from the link of the advertisment using the keys from merged_df \n",
    "    for i in ads_df[\"links_ads\"]:\n",
    "        parsed_url = urllib.parse.urlparse(i)\n",
    "\n",
    "        query_params = urllib.parse.parse_qs(parsed_url.query)\n",
    "\n",
    "        ms_value = query_params.get('ms', [])\n",
    "\n",
    "        if ms_value:\n",
    "            ms_values = ms_value[0].split(';')\n",
    "\n",
    "            if len(ms_values) >= 2:\n",
    "                ads_df[\"make_id\"] = ms_values[0]\n",
    "                ads_df[\"model_id\"] = ms_values[1]\n",
    "\n",
    "    ads_df[\"model_id\"] = ads_df[\"model_id\"].astype(object)\n",
    "    ads_df[\"make_id\"] = ads_df[\"make_id\"].astype(int)\n",
    "    df[\"make_id\"] = df[\"make_id\"].astype(int)\n",
    "    \n",
    "    # merge together -> source of info merged_df \n",
    "    merged_data = pd.merge(ads_df, df, on=['make_id', 'model_id'], how='left')\n",
    "    \n",
    "    # reoder everything\n",
    "    merged_data = merged_data[['car_make', 'make_id', 'car_model', 'model_id', 'link', 'links_ads', 'download_date_time', 'id_ad']]\n",
    "    \n",
    "    # drop landing link \n",
    "    merged_data = merged_data.drop([\"link\"], axis = 1)\n",
    "\n",
    "    return merged_data"
   ]
  },
  {
   "cell_type": "code",
   "execution_count": 16,
   "id": "8ddbae5c",
   "metadata": {},
   "outputs": [
    {
     "name": "stdout",
     "output_type": "stream",
     "text": [
      "max_number_pages: 8\n"
     ]
    },
    {
     "name": "stderr",
     "output_type": "stream",
     "text": [
      " 12%|█████▋                                       | 1/8 [00:08<01:01,  8.74s/it]"
     ]
    },
    {
     "name": "stdout",
     "output_type": "stream",
     "text": [
      "page: 7 added ads 20\n"
     ]
    },
    {
     "name": "stderr",
     "output_type": "stream",
     "text": [
      "\r",
      " 25%|███████████▎                                 | 2/8 [00:17<00:52,  8.68s/it]"
     ]
    },
    {
     "name": "stdout",
     "output_type": "stream",
     "text": [
      "page: 2 added ads 20\n"
     ]
    },
    {
     "name": "stderr",
     "output_type": "stream",
     "text": [
      "\r",
      " 38%|████████████████▉                            | 3/8 [00:26<00:44,  8.86s/it]"
     ]
    },
    {
     "name": "stdout",
     "output_type": "stream",
     "text": [
      "page: 6 added ads 20\n"
     ]
    },
    {
     "name": "stderr",
     "output_type": "stream",
     "text": [
      "\r",
      " 50%|██████████████████████▌                      | 4/8 [00:35<00:35,  8.86s/it]"
     ]
    },
    {
     "name": "stdout",
     "output_type": "stream",
     "text": [
      "page: 1 added ads 24\n"
     ]
    },
    {
     "name": "stderr",
     "output_type": "stream",
     "text": [
      "\r",
      " 62%|████████████████████████████▏                | 5/8 [00:43<00:26,  8.75s/it]"
     ]
    },
    {
     "name": "stdout",
     "output_type": "stream",
     "text": [
      "page: 3 added ads 20\n"
     ]
    },
    {
     "name": "stderr",
     "output_type": "stream",
     "text": [
      "\r",
      " 75%|█████████████████████████████████▊           | 6/8 [00:52<00:17,  8.75s/it]"
     ]
    },
    {
     "name": "stdout",
     "output_type": "stream",
     "text": [
      "page: 8 added ads 11\n"
     ]
    },
    {
     "name": "stderr",
     "output_type": "stream",
     "text": [
      "\r",
      " 88%|███████████████████████████████████████▍     | 7/8 [01:01<00:08,  8.73s/it]"
     ]
    },
    {
     "name": "stdout",
     "output_type": "stream",
     "text": [
      "page: 5 added ads 20\n"
     ]
    },
    {
     "name": "stderr",
     "output_type": "stream",
     "text": [
      "100%|█████████████████████████████████████████████| 8/8 [01:10<00:00,  8.77s/it]"
     ]
    },
    {
     "name": "stdout",
     "output_type": "stream",
     "text": [
      "page: 4 added ads 20\n",
      "Saved ads: 151\n"
     ]
    },
    {
     "name": "stderr",
     "output_type": "stream",
     "text": [
      "\n"
     ]
    }
   ],
   "source": [
    "carreraS_997_ads = scrape_links_one_make_one_model(df_make_model_links, p997_carreraS)"
   ]
  },
  {
   "cell_type": "code",
   "execution_count": 17,
   "id": "51f4c7e9",
   "metadata": {},
   "outputs": [
    {
     "data": {
      "text/html": [
       "<div>\n",
       "<style scoped>\n",
       "    .dataframe tbody tr th:only-of-type {\n",
       "        vertical-align: middle;\n",
       "    }\n",
       "\n",
       "    .dataframe tbody tr th {\n",
       "        vertical-align: top;\n",
       "    }\n",
       "\n",
       "    .dataframe thead th {\n",
       "        text-align: right;\n",
       "    }\n",
       "</style>\n",
       "<table border=\"1\" class=\"dataframe\">\n",
       "  <thead>\n",
       "    <tr style=\"text-align: right;\">\n",
       "      <th></th>\n",
       "      <th>car_make</th>\n",
       "      <th>make_id</th>\n",
       "      <th>car_model</th>\n",
       "      <th>model_id</th>\n",
       "      <th>links_ads</th>\n",
       "      <th>download_date_time</th>\n",
       "      <th>id_ad</th>\n",
       "    </tr>\n",
       "  </thead>\n",
       "  <tbody>\n",
       "    <tr>\n",
       "      <th>0</th>\n",
       "      <td>Porsche</td>\n",
       "      <td>20100</td>\n",
       "      <td>997</td>\n",
       "      <td>17</td>\n",
       "      <td>https://suchen.mobile.de/fahrzeuge/details.htm...</td>\n",
       "      <td>26/11/2023 20:20:45</td>\n",
       "      <td>380043353</td>\n",
       "    </tr>\n",
       "    <tr>\n",
       "      <th>1</th>\n",
       "      <td>Porsche</td>\n",
       "      <td>20100</td>\n",
       "      <td>997</td>\n",
       "      <td>17</td>\n",
       "      <td>https://suchen.mobile.de/fahrzeuge/details.htm...</td>\n",
       "      <td>26/11/2023 20:20:45</td>\n",
       "      <td>376392454</td>\n",
       "    </tr>\n",
       "    <tr>\n",
       "      <th>2</th>\n",
       "      <td>Porsche</td>\n",
       "      <td>20100</td>\n",
       "      <td>997</td>\n",
       "      <td>17</td>\n",
       "      <td>https://suchen.mobile.de/fahrzeuge/details.htm...</td>\n",
       "      <td>26/11/2023 20:20:45</td>\n",
       "      <td>367309574</td>\n",
       "    </tr>\n",
       "    <tr>\n",
       "      <th>3</th>\n",
       "      <td>Porsche</td>\n",
       "      <td>20100</td>\n",
       "      <td>997</td>\n",
       "      <td>17</td>\n",
       "      <td>https://suchen.mobile.de/fahrzeuge/details.htm...</td>\n",
       "      <td>26/11/2023 20:20:45</td>\n",
       "      <td>378047641</td>\n",
       "    </tr>\n",
       "    <tr>\n",
       "      <th>4</th>\n",
       "      <td>Porsche</td>\n",
       "      <td>20100</td>\n",
       "      <td>997</td>\n",
       "      <td>17</td>\n",
       "      <td>https://suchen.mobile.de/fahrzeuge/details.htm...</td>\n",
       "      <td>26/11/2023 20:20:45</td>\n",
       "      <td>342406831</td>\n",
       "    </tr>\n",
       "  </tbody>\n",
       "</table>\n",
       "</div>"
      ],
      "text/plain": [
       "  car_make  make_id car_model model_id  \\\n",
       "0  Porsche    20100       997       17   \n",
       "1  Porsche    20100       997       17   \n",
       "2  Porsche    20100       997       17   \n",
       "3  Porsche    20100       997       17   \n",
       "4  Porsche    20100       997       17   \n",
       "\n",
       "                                           links_ads   download_date_time  \\\n",
       "0  https://suchen.mobile.de/fahrzeuge/details.htm...  26/11/2023 20:20:45   \n",
       "1  https://suchen.mobile.de/fahrzeuge/details.htm...  26/11/2023 20:20:45   \n",
       "2  https://suchen.mobile.de/fahrzeuge/details.htm...  26/11/2023 20:20:45   \n",
       "3  https://suchen.mobile.de/fahrzeuge/details.htm...  26/11/2023 20:20:45   \n",
       "4  https://suchen.mobile.de/fahrzeuge/details.htm...  26/11/2023 20:20:45   \n",
       "\n",
       "       id_ad  \n",
       "0  380043353  \n",
       "1  376392454  \n",
       "2  367309574  \n",
       "3  378047641  \n",
       "4  342406831  "
      ]
     },
     "metadata": {},
     "output_type": "display_data"
    }
   ],
   "source": [
    "display(carreraS_997_ads.head())"
   ]
  },
  {
   "cell_type": "markdown",
   "id": "0eb73f1d",
   "metadata": {},
   "source": [
    "### Now let's go over each of the individual ads and scrape all the relevant information that we are concerned and interested in"
   ]
  },
  {
   "cell_type": "code",
   "execution_count": 19,
   "id": "288de8b3",
   "metadata": {},
   "outputs": [],
   "source": [
    "ids_key = ['mileage', 'firstRegistration', 'power', 'transmission', 'numberOfPreviousOwners', 'fuel']\n",
    "ids_to_extract = [\n",
    "    \"damageCondition\",\n",
    "    \"category\",\n",
    "    \"mileage\",\n",
    "    \"cubicCapacity\",\n",
    "    \"power\",\n",
    "    \"fuel\",\n",
    "    \"envkv.consumption\",\n",
    "    \"envkv.emission\",\n",
    "    \"envkv.petrolType\",\n",
    "    \"doorCount\",\n",
    "    \"transmission\",\n",
    "    \"emissionsSticker\",\n",
    "    \"firstRegistration\",\n",
    "    \"constructionYear\",\n",
    "    \"numberOfPreviousOwners\",\n",
    "    \"climatisation\",\n",
    "    \"manufacturerColorName\",\n",
    "    \"color\",\n",
    "    \"interior\"]"
   ]
  },
  {
   "cell_type": "code",
   "execution_count": 20,
   "id": "226e2c5b",
   "metadata": {},
   "outputs": [],
   "source": [
    "def individual_ad_scraper_errors(ads, key_info, misc_info, sleep=7, max_retries=2):\n",
    "    all_ads_info = pd.DataFrame()\n",
    "    errored_ads = []\n",
    "    \n",
    "\n",
    "    def scrape_ad(ad, sleep_timer):\n",
    "        try:\n",
    "            # 1 open a window to get the \"soup\"\n",
    "            chrome_options = webdriver.ChromeOptions()\n",
    "            prefs = {\"profile.managed_default_content_settings.images\": 2}\n",
    "            chrome_options.add_experimental_option(\"prefs\", prefs)\n",
    "\n",
    "            # Open Chrome in incognito mode\n",
    "            chrome_options.add_argument('--incognito')\n",
    "\n",
    "            driver_path = ChromeDriverManager().install()\n",
    "            service = Service(driver_path)\n",
    "            driver = webdriver.Chrome(service=service, options=chrome_options)\n",
    "\n",
    "            # open the landing page \n",
    "            driver.get(ad)\n",
    "            time.sleep(sleep_timer)                                       \n",
    "            base_source = driver.page_source\n",
    "            ad_soup = BeautifulSoup(base_source, 'html.parser')\n",
    "\n",
    "            # 2 extract key info \n",
    "            ad_key_properties = {}\n",
    "            for i_k in key_info:                                      \n",
    "                label_text = ad_soup.find('div', {'id': f'{i_k}-l'}).find('strong').text if ad_soup.find('div', {'id': f'{i_k}-l'}) else None\n",
    "                value_text = ad_soup.find('div', {'id': f'{i_k}-v'}).get_text(strip=True) if ad_soup.find('div', {'id': f'{i_k}-v'}) else None\n",
    "\n",
    "                if label_text and value_text:\n",
    "                    ad_key_properties[label_text] = value_text\n",
    "\n",
    "            # 3 extract non-key info \n",
    "            ad_not_so_important_properties = {}                \n",
    "            for i_n in misc_info:                            \n",
    "                label_element = ad_soup.find('div', {'id': f'{i_n}-l'})\n",
    "\n",
    "                if label_element:\n",
    "                    label_text = label_element.find('strong').text\n",
    "\n",
    "                    value_element = ad_soup.find('div', {'id': f'{i_n}-v'})\n",
    "                    if value_element:\n",
    "                        value_text = value_element.get_text(strip=True)\n",
    "\n",
    "                    ad_not_so_important_properties[label_text] = value_text\n",
    "\n",
    "            # 4 extract price \n",
    "            price_element = ad_soup.find('span', {'data-testid': 'prime-price'})\n",
    "            price = price_element.text.replace('\\xa0', ' ').strip()\n",
    "\n",
    "            # 5 extract seller info \n",
    "            seller_element = ad_soup.find('a', {'class': 'seller-title'})\n",
    "            seller_name = seller_element.text.strip()\n",
    "\n",
    "            # 6 extract ad description\n",
    "            #description_element = ad_soup.find('div', {'class': 'description'})\n",
    "            #vehicle_description = description_element.text.strip()\n",
    "\n",
    "            driver.close()\n",
    "\n",
    "            # creating a dataframe containing everything relevant for the advertisment\n",
    "            combined_ad_dict = {**ad_key_properties, **ad_not_so_important_properties, 'Price': price, 'Dealer': seller_name, 'Ad_link': ad} \n",
    "            combined_ad_df = pd.DataFrame([combined_ad_dict])\n",
    "\n",
    "            return combined_ad_df\n",
    "        except Exception as e:\n",
    "            print(f\"Error scraping ad {ad}. Error: {e}\")\n",
    "            driver.close()\n",
    "            return None\n",
    "\n",
    "    for ad in tqdm(ads):\n",
    "        ad_df = scrape_ad(ad, sleep)\n",
    "        if ad_df is not None:\n",
    "            all_ads_info = pd.concat([all_ads_info, ad_df], ignore_index=True)\n",
    "        else:\n",
    "            errored_ads.append(ad)\n",
    "\n",
    "    retries = 0\n",
    "    while errored_ads and retries < max_retries:\n",
    "        retries += 1\n",
    "        sleep += 4 \n",
    "        new_errored_ads = []\n",
    "        for ad in tqdm(errored_ads):\n",
    "            ad_df = scrape_ad(ad, sleep)\n",
    "            if ad_df is not None:\n",
    "                all_ads_info = pd.concat([all_ads_info, ad_df], ignore_index=True)\n",
    "            else:\n",
    "                new_errored_ads.append(ad)\n",
    "        errored_ads = new_errored_ads\n",
    "\n",
    "    return all_ads_info, errored_ads\n"
   ]
  },
  {
   "cell_type": "code",
   "execution_count": 21,
   "id": "f7d96f85",
   "metadata": {},
   "outputs": [
    {
     "name": "stderr",
     "output_type": "stream",
     "text": [
      "  1%|▎                                          | 1/151 [00:10<25:54, 10.36s/it]"
     ]
    },
    {
     "name": "stdout",
     "output_type": "stream",
     "text": [
      "Error scraping ad https://suchen.mobile.de/fahrzeuge/details.html?id=380043353&dam=0&fr=2009%3A2011&isSearchRequest=true&ms=20100%3B17%3B%3B&pageNumber=7&pw=%3A295&ref=srp&refId=88a9c63e-950f-1558-9fc1-cca59e925faf&sb=rel&searchId=88a9c63e-950f-1558-9fc1-cca59e925faf&vc=Car. Error: 'NoneType' object has no attribute 'text'\n"
     ]
    },
    {
     "name": "stderr",
     "output_type": "stream",
     "text": [
      " 13%|█████▎                                    | 19/151 [03:13<22:23, 10.18s/it]"
     ]
    },
    {
     "name": "stdout",
     "output_type": "stream",
     "text": [
      "Error scraping ad https://suchen.mobile.de/fahrzeuge/details.html?id=368853954&dam=0&fr=2009%3A2011&isSearchRequest=true&ms=20100%3B17%3B%3B&pageNumber=7&pw=%3A295&ref=srp&refId=88a9c63e-950f-1558-9fc1-cca59e925faf&sb=rel&searchId=88a9c63e-950f-1558-9fc1-cca59e925faf&vc=Car. Error: 'NoneType' object has no attribute 'text'\n"
     ]
    },
    {
     "name": "stderr",
     "output_type": "stream",
     "text": [
      " 23%|█████████▍                                | 34/151 [05:46<19:53, 10.20s/it]"
     ]
    },
    {
     "name": "stdout",
     "output_type": "stream",
     "text": [
      "Error scraping ad https://suchen.mobile.de/fahrzeuge/details.html?id=376495076&dam=0&fr=2009%3A2011&isSearchRequest=true&ms=20100%3B17%3B%3B&pageNumber=2&pw=%3A295&ref=srp&refId=6198d15e-739c-eec0-402b-9ddcb60400e6&sb=rel&searchId=6198d15e-739c-eec0-402b-9ddcb60400e6&vc=Car. Error: 'NoneType' object has no attribute 'text'\n"
     ]
    },
    {
     "name": "stderr",
     "output_type": "stream",
     "text": [
      " 34%|██████████████▏                           | 51/151 [08:40<17:06, 10.26s/it]"
     ]
    },
    {
     "name": "stdout",
     "output_type": "stream",
     "text": [
      "Error scraping ad https://suchen.mobile.de/fahrzeuge/details.html?id=358029118&dam=0&fr=2009%3A2011&isSearchRequest=true&ms=20100%3B17%3B%3B&pageNumber=6&pw=%3A295&ref=srp&refId=572bdb20-3aef-d80f-9abc-1a836ba7cd70&sb=rel&searchId=572bdb20-3aef-d80f-9abc-1a836ba7cd70&vc=Car. Error: 'NoneType' object has no attribute 'text'\n"
     ]
    },
    {
     "name": "stderr",
     "output_type": "stream",
     "text": [
      " 46%|███████████████████▍                      | 70/151 [11:56<13:38, 10.11s/it]"
     ]
    },
    {
     "name": "stdout",
     "output_type": "stream",
     "text": [
      "Error scraping ad https://suchen.mobile.de/fahrzeuge/details.html?id=376721892&dam=0&fr=2009%3A2011&isSearchRequest=true&ms=20100%3B17%3B%3B&pageNumber=1&pw=%3A295&ref=srp&refId=967bcd39-8c23-1ad8-77f0-fe48611cccda&sb=rel&searchId=967bcd39-8c23-1ad8-77f0-fe48611cccda&vc=Car. Error: 'NoneType' object has no attribute 'text'\n"
     ]
    },
    {
     "name": "stderr",
     "output_type": "stream",
     "text": [
      " 48%|████████████████████                      | 72/151 [12:16<13:13, 10.05s/it]"
     ]
    },
    {
     "name": "stdout",
     "output_type": "stream",
     "text": [
      "Error scraping ad https://suchen.mobile.de/fahrzeuge/details.html?id=377950740&dam=0&fr=2009%3A2011&isSearchRequest=true&ms=20100%3B17%3B%3B&pageNumber=1&pw=%3A295&ref=srp&refId=967bcd39-8c23-1ad8-77f0-fe48611cccda&sb=rel&searchId=967bcd39-8c23-1ad8-77f0-fe48611cccda&vc=Car. Error: 'NoneType' object has no attribute 'text'\n"
     ]
    },
    {
     "name": "stderr",
     "output_type": "stream",
     "text": [
      " 54%|██████████████████████▊                   | 82/151 [13:58<11:38, 10.13s/it]"
     ]
    },
    {
     "name": "stdout",
     "output_type": "stream",
     "text": [
      "Error scraping ad https://suchen.mobile.de/fahrzeuge/details.html?id=379081477&action=eyeCatcher&dam=0&fr=2009%3A2011&isSearchRequest=true&ms=20100%3B17%3B%3B&pageNumber=1&pw=%3A295&ref=srp&refId=967bcd39-8c23-1ad8-77f0-fe48611cccda&sb=rel&searchId=967bcd39-8c23-1ad8-77f0-fe48611cccda&vc=Car. Error: 'NoneType' object has no attribute 'text'\n"
     ]
    },
    {
     "name": "stderr",
     "output_type": "stream",
     "text": [
      " 60%|█████████████████████████                 | 90/151 [15:20<10:24, 10.24s/it]"
     ]
    },
    {
     "name": "stdout",
     "output_type": "stream",
     "text": [
      "Error scraping ad https://suchen.mobile.de/fahrzeuge/details.html?id=377489632&dam=0&fr=2009%3A2011&isSearchRequest=true&ms=20100%3B17%3B%3B&pageNumber=3&pw=%3A295&ref=srp&refId=cd7682aa-07c1-d4ba-5b1c-28258fd96c82&sb=rel&searchId=cd7682aa-07c1-d4ba-5b1c-28258fd96c82&vc=Car. Error: 'NoneType' object has no attribute 'text'\n"
     ]
    },
    {
     "name": "stderr",
     "output_type": "stream",
     "text": [
      "\r",
      " 60%|█████████████████████████▎                | 91/151 [15:30<10:13, 10.22s/it]"
     ]
    },
    {
     "name": "stdout",
     "output_type": "stream",
     "text": [
      "Error scraping ad https://suchen.mobile.de/fahrzeuge/details.html?id=362097191&dam=0&fr=2009%3A2011&isSearchRequest=true&ms=20100%3B17%3B%3B&pageNumber=3&pw=%3A295&ref=srp&refId=cd7682aa-07c1-d4ba-5b1c-28258fd96c82&sb=rel&searchId=cd7682aa-07c1-d4ba-5b1c-28258fd96c82&vc=Car. Error: 'NoneType' object has no attribute 'text'\n"
     ]
    },
    {
     "name": "stderr",
     "output_type": "stream",
     "text": [
      " 62%|██████████████████████████▏               | 94/151 [16:01<09:42, 10.21s/it]"
     ]
    },
    {
     "name": "stdout",
     "output_type": "stream",
     "text": [
      "Error scraping ad https://suchen.mobile.de/fahrzeuge/details.html?id=373454991&dam=0&fr=2009%3A2011&isSearchRequest=true&ms=20100%3B17%3B%3B&pageNumber=3&pw=%3A295&ref=srp&refId=cd7682aa-07c1-d4ba-5b1c-28258fd96c82&sb=rel&searchId=cd7682aa-07c1-d4ba-5b1c-28258fd96c82&vc=Car. Error: 'NoneType' object has no attribute 'text'\n"
     ]
    },
    {
     "name": "stderr",
     "output_type": "stream",
     "text": [
      " 86%|███████████████████████████████████▎     | 130/151 [22:12<03:34, 10.22s/it]"
     ]
    },
    {
     "name": "stdout",
     "output_type": "stream",
     "text": [
      "Error scraping ad https://suchen.mobile.de/fahrzeuge/details.html?id=374288795&dam=0&fr=2009%3A2011&isSearchRequest=true&ms=20100%3B17%3B%3B&pageNumber=5&pw=%3A295&ref=srp&refId=f2bd8bb2-a611-8af9-df04-059412b354a6&sb=rel&searchId=f2bd8bb2-a611-8af9-df04-059412b354a6&vc=Car. Error: 'NoneType' object has no attribute 'text'\n"
     ]
    },
    {
     "name": "stderr",
     "output_type": "stream",
     "text": [
      "100%|█████████████████████████████████████████| 151/151 [25:48<00:00, 10.25s/it]\n",
      "100%|███████████████████████████████████████████| 11/11 [02:36<00:00, 14.20s/it]\n"
     ]
    }
   ],
   "source": [
    "carreraS_977_full, errored_ads = individual_ad_scraper_errors(carreraS_997_ads[\"links_ads\"], ids_key, ids_to_extract)"
   ]
  },
  {
   "cell_type": "code",
   "execution_count": 27,
   "id": "88e03c21",
   "metadata": {},
   "outputs": [
    {
     "name": "stdout",
     "output_type": "stream",
     "text": [
      "All ads have been scraped successfuly!\n"
     ]
    }
   ],
   "source": [
    "if carreraS_977_full.shape[0] == carreraS_997_ads.shape[0]:\n",
    "    print(\"All ads have been scraped successfuly!\")\n",
    "else:\n",
    "    print(\"Not all ads have been scraped succesfuly, check the second dataframe\")"
   ]
  },
  {
   "cell_type": "code",
   "execution_count": 29,
   "id": "8b59a1b6",
   "metadata": {},
   "outputs": [
    {
     "data": {
      "text/html": [
       "<div>\n",
       "<style scoped>\n",
       "    .dataframe tbody tr th:only-of-type {\n",
       "        vertical-align: middle;\n",
       "    }\n",
       "\n",
       "    .dataframe tbody tr th {\n",
       "        vertical-align: top;\n",
       "    }\n",
       "\n",
       "    .dataframe thead th {\n",
       "        text-align: right;\n",
       "    }\n",
       "</style>\n",
       "<table border=\"1\" class=\"dataframe\">\n",
       "  <thead>\n",
       "    <tr style=\"text-align: right;\">\n",
       "      <th></th>\n",
       "      <th>Kilometerstand</th>\n",
       "      <th>Erstzulassung</th>\n",
       "      <th>Leistung</th>\n",
       "      <th>Getriebe</th>\n",
       "      <th>Anzahl der Fahrzeughalter</th>\n",
       "      <th>Kraftstoffart</th>\n",
       "      <th>Fahrzeugzustand</th>\n",
       "      <th>Kategorie</th>\n",
       "      <th>Hubraum</th>\n",
       "      <th>Verbrauch</th>\n",
       "      <th>...</th>\n",
       "      <th>Klimatisierung</th>\n",
       "      <th>Farbe</th>\n",
       "      <th>Innenausstattung</th>\n",
       "      <th>Price</th>\n",
       "      <th>Dealer</th>\n",
       "      <th>Ad_link</th>\n",
       "      <th>Umweltplakette</th>\n",
       "      <th>Farbe (Hersteller)</th>\n",
       "      <th>Baujahr</th>\n",
       "      <th>Zugr.-lgd. Treibstoffart</th>\n",
       "    </tr>\n",
       "  </thead>\n",
       "  <tbody>\n",
       "    <tr>\n",
       "      <th>0</th>\n",
       "      <td>148.925 km</td>\n",
       "      <td>01/2009</td>\n",
       "      <td>283 kW (385 PS)</td>\n",
       "      <td>Automatik</td>\n",
       "      <td>3</td>\n",
       "      <td>Benzin</td>\n",
       "      <td>Unfallfrei</td>\n",
       "      <td>Sportwagen / Coupé</td>\n",
       "      <td>3.800 cm³</td>\n",
       "      <td>ca. 11,0 l/100km (kombiniert)ca. 16,5 l/100km ...</td>\n",
       "      <td>...</td>\n",
       "      <td>2-Zonen-Klimaautomatik</td>\n",
       "      <td>Schwarz Metallic</td>\n",
       "      <td>Vollleder, Schwarz</td>\n",
       "      <td>59.900 €</td>\n",
       "      <td>Privatanbieter</td>\n",
       "      <td>https://suchen.mobile.de/fahrzeuge/details.htm...</td>\n",
       "      <td>NaN</td>\n",
       "      <td>NaN</td>\n",
       "      <td>NaN</td>\n",
       "      <td>NaN</td>\n",
       "    </tr>\n",
       "    <tr>\n",
       "      <th>1</th>\n",
       "      <td>188.997 km</td>\n",
       "      <td>08/2009</td>\n",
       "      <td>283 kW (385 PS)</td>\n",
       "      <td>Automatik</td>\n",
       "      <td>NaN</td>\n",
       "      <td>Benzin</td>\n",
       "      <td>NaN</td>\n",
       "      <td>Sportwagen / Coupé</td>\n",
       "      <td>3.800 cm³</td>\n",
       "      <td>ca. 10,7 l/100km (kombiniert)ca. 15,8 l/100km ...</td>\n",
       "      <td>...</td>\n",
       "      <td>2-Zonen-Klimaautomatik</td>\n",
       "      <td>Schwarz Metallic</td>\n",
       "      <td>Vollleder, Schwarz</td>\n",
       "      <td>49.990 €</td>\n",
       "      <td>Autozentrum Rheinland</td>\n",
       "      <td>https://suchen.mobile.de/fahrzeuge/details.htm...</td>\n",
       "      <td>4 (Grün)</td>\n",
       "      <td>Schwarz</td>\n",
       "      <td>NaN</td>\n",
       "      <td>NaN</td>\n",
       "    </tr>\n",
       "    <tr>\n",
       "      <th>2</th>\n",
       "      <td>22.500 km</td>\n",
       "      <td>12/2009</td>\n",
       "      <td>283 kW (385 PS)</td>\n",
       "      <td>Automatik</td>\n",
       "      <td>2</td>\n",
       "      <td>Benzin</td>\n",
       "      <td>Unfallfrei</td>\n",
       "      <td>Cabrio / Roadster</td>\n",
       "      <td>3.800 cm³</td>\n",
       "      <td>ca. 11,0 l/100km (kombiniert)ca. 16,5 l/100km ...</td>\n",
       "      <td>...</td>\n",
       "      <td>Klimaautomatik</td>\n",
       "      <td>Weiß</td>\n",
       "      <td>Vollleder, Schwarz</td>\n",
       "      <td>95.000 €</td>\n",
       "      <td>Hans Schlund Automobile</td>\n",
       "      <td>https://suchen.mobile.de/fahrzeuge/details.htm...</td>\n",
       "      <td>4 (Grün)</td>\n",
       "      <td>Carraraweiß</td>\n",
       "      <td>NaN</td>\n",
       "      <td>NaN</td>\n",
       "    </tr>\n",
       "    <tr>\n",
       "      <th>3</th>\n",
       "      <td>82.295 km</td>\n",
       "      <td>07/2011</td>\n",
       "      <td>283 kW (385 PS)</td>\n",
       "      <td>Schaltgetriebe</td>\n",
       "      <td>NaN</td>\n",
       "      <td>Benzin</td>\n",
       "      <td>Unfallfrei</td>\n",
       "      <td>Cabrio / Roadster</td>\n",
       "      <td>3.800 cm³</td>\n",
       "      <td>ca. 11,0 l/100km (kombiniert)ca. 16,5 l/100km ...</td>\n",
       "      <td>...</td>\n",
       "      <td>Klimaautomatik</td>\n",
       "      <td>Rot Metallic</td>\n",
       "      <td>Vollleder, Schwarz</td>\n",
       "      <td>85.999 €</td>\n",
       "      <td>GDCauto - De Clercq Geert NV</td>\n",
       "      <td>https://suchen.mobile.de/fahrzeuge/details.htm...</td>\n",
       "      <td>NaN</td>\n",
       "      <td>RUBY RED</td>\n",
       "      <td>NaN</td>\n",
       "      <td>NaN</td>\n",
       "    </tr>\n",
       "    <tr>\n",
       "      <th>4</th>\n",
       "      <td>85.000 km</td>\n",
       "      <td>10/2010</td>\n",
       "      <td>283 kW (385 PS)</td>\n",
       "      <td>Automatik</td>\n",
       "      <td>NaN</td>\n",
       "      <td>Benzin</td>\n",
       "      <td>Unfallfrei</td>\n",
       "      <td>Cabrio / Roadster</td>\n",
       "      <td>3.800 cm³</td>\n",
       "      <td>ca. 10,7 l/100km (kombiniert)ca. 16,1 l/100km ...</td>\n",
       "      <td>...</td>\n",
       "      <td>Klimaautomatik</td>\n",
       "      <td>Grau Metallic</td>\n",
       "      <td>Vollleder, Braun</td>\n",
       "      <td>82.250 €</td>\n",
       "      <td>Nordic Drive ApS</td>\n",
       "      <td>https://suchen.mobile.de/fahrzeuge/details.htm...</td>\n",
       "      <td>NaN</td>\n",
       "      <td>Meteorgraumetallic</td>\n",
       "      <td>NaN</td>\n",
       "      <td>NaN</td>\n",
       "    </tr>\n",
       "  </tbody>\n",
       "</table>\n",
       "<p>5 rows × 22 columns</p>\n",
       "</div>"
      ],
      "text/plain": [
       "  Kilometerstand Erstzulassung         Leistung        Getriebe  \\\n",
       "0     148.925 km       01/2009  283 kW (385 PS)       Automatik   \n",
       "1     188.997 km       08/2009  283 kW (385 PS)       Automatik   \n",
       "2      22.500 km       12/2009  283 kW (385 PS)       Automatik   \n",
       "3      82.295 km       07/2011  283 kW (385 PS)  Schaltgetriebe   \n",
       "4      85.000 km       10/2010  283 kW (385 PS)       Automatik   \n",
       "\n",
       "  Anzahl der Fahrzeughalter Kraftstoffart Fahrzeugzustand           Kategorie  \\\n",
       "0                         3        Benzin      Unfallfrei  Sportwagen / Coupé   \n",
       "1                       NaN        Benzin             NaN  Sportwagen / Coupé   \n",
       "2                         2        Benzin      Unfallfrei   Cabrio / Roadster   \n",
       "3                       NaN        Benzin      Unfallfrei   Cabrio / Roadster   \n",
       "4                       NaN        Benzin      Unfallfrei   Cabrio / Roadster   \n",
       "\n",
       "     Hubraum                                          Verbrauch  ...  \\\n",
       "0  3.800 cm³  ca. 11,0 l/100km (kombiniert)ca. 16,5 l/100km ...  ...   \n",
       "1  3.800 cm³  ca. 10,7 l/100km (kombiniert)ca. 15,8 l/100km ...  ...   \n",
       "2  3.800 cm³  ca. 11,0 l/100km (kombiniert)ca. 16,5 l/100km ...  ...   \n",
       "3  3.800 cm³  ca. 11,0 l/100km (kombiniert)ca. 16,5 l/100km ...  ...   \n",
       "4  3.800 cm³  ca. 10,7 l/100km (kombiniert)ca. 16,1 l/100km ...  ...   \n",
       "\n",
       "           Klimatisierung             Farbe    Innenausstattung     Price  \\\n",
       "0  2-Zonen-Klimaautomatik  Schwarz Metallic  Vollleder, Schwarz  59.900 €   \n",
       "1  2-Zonen-Klimaautomatik  Schwarz Metallic  Vollleder, Schwarz  49.990 €   \n",
       "2          Klimaautomatik              Weiß  Vollleder, Schwarz  95.000 €   \n",
       "3          Klimaautomatik      Rot Metallic  Vollleder, Schwarz  85.999 €   \n",
       "4          Klimaautomatik     Grau Metallic    Vollleder, Braun  82.250 €   \n",
       "\n",
       "                         Dealer  \\\n",
       "0                Privatanbieter   \n",
       "1         Autozentrum Rheinland   \n",
       "2       Hans Schlund Automobile   \n",
       "3  GDCauto - De Clercq Geert NV   \n",
       "4              Nordic Drive ApS   \n",
       "\n",
       "                                             Ad_link Umweltplakette  \\\n",
       "0  https://suchen.mobile.de/fahrzeuge/details.htm...            NaN   \n",
       "1  https://suchen.mobile.de/fahrzeuge/details.htm...       4 (Grün)   \n",
       "2  https://suchen.mobile.de/fahrzeuge/details.htm...       4 (Grün)   \n",
       "3  https://suchen.mobile.de/fahrzeuge/details.htm...            NaN   \n",
       "4  https://suchen.mobile.de/fahrzeuge/details.htm...            NaN   \n",
       "\n",
       "   Farbe (Hersteller) Baujahr Zugr.-lgd. Treibstoffart  \n",
       "0                 NaN     NaN                      NaN  \n",
       "1             Schwarz     NaN                      NaN  \n",
       "2         Carraraweiß     NaN                      NaN  \n",
       "3            RUBY RED     NaN                      NaN  \n",
       "4  Meteorgraumetallic     NaN                      NaN  \n",
       "\n",
       "[5 rows x 22 columns]"
      ]
     },
     "execution_count": 29,
     "metadata": {},
     "output_type": "execute_result"
    }
   ],
   "source": [
    "carreraS_977_full.head()"
   ]
  },
  {
   "cell_type": "code",
   "execution_count": 31,
   "id": "a3c45a3f",
   "metadata": {},
   "outputs": [],
   "source": [
    "# Save the scraped ads data, so that it can be utalized in the second notebook\n",
    "carreraS_977_full.to_csv(\"porsche_997_facelift_S.csv\")"
   ]
  },
  {
   "cell_type": "code",
   "execution_count": 33,
   "id": "e18d0484",
   "metadata": {},
   "outputs": [],
   "source": [
    "# Save the data with the links, so that we can make an interactive plot in the second notebook\n",
    "carreraS_997_ads.to_csv(\"porsche_997_facelift_S_links.csv\")"
   ]
  },
  {
   "cell_type": "code",
   "execution_count": null,
   "id": "68147222",
   "metadata": {},
   "outputs": [],
   "source": []
  }
 ],
 "metadata": {
  "kernelspec": {
   "display_name": "santiment",
   "language": "python",
   "name": "santiment"
  },
  "language_info": {
   "codemirror_mode": {
    "name": "ipython",
    "version": 3
   },
   "file_extension": ".py",
   "mimetype": "text/x-python",
   "name": "python",
   "nbconvert_exporter": "python",
   "pygments_lexer": "ipython3",
   "version": "3.9.18"
  }
 },
 "nbformat": 4,
 "nbformat_minor": 5
}
